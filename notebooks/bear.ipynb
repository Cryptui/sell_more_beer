{
 "cells": [
  {
   "cell_type": "code",
   "execution_count": 1,
   "metadata": {},
   "outputs": [
    {
     "name": "stdout",
     "output_type": "stream",
     "text": [
      "<class 'pandas.core.frame.DataFrame'>\n",
      "RangeIndex: 5 entries, 0 to 4\n",
      "Data columns (total 2 columns):\n",
      " #   Column  Non-Null Count  Dtype \n",
      "---  ------  --------------  ----- \n",
      " 0   id      5 non-null      int64 \n",
      " 1   Name    5 non-null      object\n",
      "dtypes: int64(1), object(1)\n",
      "memory usage: 212.0+ bytes\n",
      "None\n",
      "<class 'pandas.core.frame.DataFrame'>\n",
      "RangeIndex: 8468 entries, 0 to 8467\n",
      "Data columns (total 13 columns):\n",
      " #   Column            Non-Null Count  Dtype \n",
      "---  ------            --------------  ----- \n",
      " 0   Location          8468 non-null   int64 \n",
      " 1   Industry          8468 non-null   object\n",
      " 2   Edition           8468 non-null   int64 \n",
      " 3   Category          8464 non-null   object\n",
      " 4   Subcategory       8468 non-null   object\n",
      " 5   Hierarchy_Level   8468 non-null   int64 \n",
      " 6   Data_Type         8468 non-null   object\n",
      " 7   Outlet            8468 non-null   object\n",
      " 8   Outlet_Hierarchy  8468 non-null   int64 \n",
      " 9   Unit              8468 non-null   object\n",
      " 10  Year_text         8468 non-null   int64 \n",
      " 11  Year_date         8468 non-null   object\n",
      " 12  Volume            8468 non-null   object\n",
      "dtypes: int64(5), object(8)\n",
      "memory usage: 860.2+ KB\n",
      "None\n",
      "<class 'pandas.core.frame.DataFrame'>\n",
      "RangeIndex: 21668 entries, 0 to 21667\n",
      "Data columns (total 11 columns):\n",
      " #   Column              Non-Null Count  Dtype  \n",
      "---  ------              --------------  -----  \n",
      " 0   Location            21668 non-null  float64\n",
      " 1   Industry            21668 non-null  object \n",
      " 2   Subcategory_ID      21668 non-null  float64\n",
      " 3   Hierarchy_Level     21668 non-null  float64\n",
      " 4   Data_Type           21668 non-null  object \n",
      " 5   Global_Brand_Owner  21668 non-null  object \n",
      " 6   Unit                21668 non-null  object \n",
      " 7   Year_text           21668 non-null  float64\n",
      " 8   Year_date           21668 non-null  object \n",
      " 9   Year_minus_2016     21668 non-null  float64\n",
      " 10  Volume              21668 non-null  object \n",
      "dtypes: float64(5), object(6)\n",
      "memory usage: 1.8+ MB\n",
      "None\n",
      "<class 'pandas.core.frame.DataFrame'>\n",
      "RangeIndex: 8 entries, 0 to 7\n",
      "Data columns (total 2 columns):\n",
      " #   Column  Non-Null Count  Dtype \n",
      "---  ------  --------------  ----- \n",
      " 0   id      8 non-null      int64 \n",
      " 1   Region  8 non-null      object\n",
      "dtypes: int64(1), object(1)\n",
      "memory usage: 260.0+ bytes\n",
      "None\n",
      "<class 'pandas.core.frame.DataFrame'>\n",
      "RangeIndex: 1221 entries, 0 to 1220\n",
      "Data columns (total 15 columns):\n",
      " #   Column               Non-Null Count  Dtype  \n",
      "---  ------               --------------  -----  \n",
      " 0   Location             1221 non-null   int64  \n",
      " 1   Industry             1221 non-null   object \n",
      " 2   Subcategory          1221 non-null   int64  \n",
      " 3   Hierarchy_Level      1221 non-null   int64  \n",
      " 4   Data_Type            1221 non-null   object \n",
      " 5   Unit                 1221 non-null   object \n",
      " 6   Current_Constant     1221 non-null   object \n",
      " 7   Currency_Conversion  1221 non-null   object \n",
      " 8   Year                 1221 non-null   int64  \n",
      " 9   Year_date            1221 non-null   object \n",
      " 10  RSP                  1221 non-null   float64\n",
      " 11  Volume               1221 non-null   float64\n",
      " 12  Year_minus_2016      1221 non-null   int64  \n",
      " 13  Year_minus_2022      1221 non-null   int64  \n",
      " 14  Edition              1221 non-null   int64  \n",
      "dtypes: float64(2), int64(7), object(6)\n",
      "memory usage: 143.2+ KB\n",
      "None\n",
      "<class 'pandas.core.frame.DataFrame'>\n",
      "RangeIndex: 17 entries, 0 to 16\n",
      "Data columns (total 3 columns):\n",
      " #   Column    Non-Null Count  Dtype \n",
      "---  ------    --------------  ----- \n",
      " 0   id        17 non-null     int64 \n",
      " 1   Category  17 non-null     int64 \n",
      " 2   Name      17 non-null     object\n",
      "dtypes: int64(2), object(1)\n",
      "memory usage: 540.0+ bytes\n",
      "None\n"
     ]
    }
   ],
   "source": [
    "import pandas as pd\n",
    "\n",
    "# Specify the path to your CSV file\n",
    "Categories_path = \"../data/Categories.csv\"\n",
    "Channel_Volume_path = \"../data/Channel_Volume.csv\"\n",
    "Company_Share_GBO_unit_path = \"../data/Company_Share_GBO_unit.csv\"\n",
    "Locations_path = \"../data/Locations.csv\"\n",
    "Market_Sizes_path = \"../data/Market_Sizes.csv\"\n",
    "Subcategories_path = \"../data/Subcategories.csv\"\n",
    "\n",
    "# Read the CSV file into a pandas DataFrame\n",
    "Categories = pd.read_csv(Categories_path)\n",
    "Channel_Volume = pd.read_csv(Channel_Volume_path)\n",
    "Company_Share = pd.read_csv(Company_Share_GBO_unit_path)\n",
    "Locations = pd.read_csv(Locations_path)\n",
    "Market_Sizes = pd.read_csv(Market_Sizes_path)\n",
    "Subcategories = pd.read_csv(Subcategories_path)\n",
    "\n",
    "# Display information about the DataFrame\n",
    "print(Categories.info())\n",
    "\n",
    "print(Channel_Volume.info())\n",
    "\n",
    "print(Company_Share.info())\n",
    "\n",
    "print(Locations.info())\n",
    "\n",
    "print(Market_Sizes.info())\n",
    "\n",
    "print(Subcategories.info())"
   ]
  },
  {
   "cell_type": "code",
   "execution_count": 2,
   "metadata": {},
   "outputs": [
    {
     "name": "stdout",
     "output_type": "stream",
     "text": [
      "8.0,Alcoholic Drinks,13.0,1.0,Total Volume,Carlsberg A/S,million litres,2016.0,31-12-16,4.0,\"11121,69868\"\n",
      "\n"
     ]
    }
   ],
   "source": [
    "with open(\"../data/Company_Share_GBO_unit.csv\", \"r\") as file:\n",
    "    lines = file.readlines()\n",
    "    print(lines[3])  # Line numbering starts from 0, so line 3 corresponds to index 2\n"
   ]
  },
  {
   "cell_type": "code",
   "execution_count": 6,
   "metadata": {},
   "outputs": [
    {
     "name": "stderr",
     "output_type": "stream",
     "text": [
      "C:\\Users\\bearr\\AppData\\Local\\Temp\\ipykernel_3176\\3337008271.py:2: UserWarning: Parsing dates in %d/%m/%Y format when dayfirst=False (the default) was specified. Pass `dayfirst=True` or specify a format to silence this warning.\n",
      "  Channel_Volume['Year_date'] = pd.to_datetime(Channel_Volume['Year_date'])\n"
     ]
    }
   ],
   "source": [
    "# Convert 'Year_date' column to datetime format\n",
    "Channel_Volume['Year_date'] = pd.to_datetime(Channel_Volume['Year_date'])\n",
    "\n",
    "# Format 'Year_date' column to DD/MM/YYYY format\n",
    "Channel_Volume['Year_date'] = Channel_Volume['Year_date'].dt.strftime('%d/%m/%Y')\n",
    "\n",
    "# Write back to the original CSV file\n",
    "Channel_Volume.to_csv(Channel_Volume_path, index=False)"
   ]
  },
  {
   "cell_type": "code",
   "execution_count": 9,
   "metadata": {},
   "outputs": [],
   "source": [
    "# Drop the 'Category' column\n",
    "Channel_Volume.drop(['Category'], axis=1, inplace=True)\n",
    "\n",
    "# Rename the 'Subcategory' column to 'Category'\n",
    "Channel_Volume.rename(columns={'Subcategory': 'Category'}, inplace=True)\n",
    "\n",
    "# Write back to the original CSV file\n",
    "Channel_Volume.to_csv(Channel_Volume_path, index=False)"
   ]
  }
 ],
 "metadata": {
  "kernelspec": {
   "display_name": "Python 3",
   "language": "python",
   "name": "python3"
  },
  "language_info": {
   "codemirror_mode": {
    "name": "ipython",
    "version": 3
   },
   "file_extension": ".py",
   "mimetype": "text/x-python",
   "name": "python",
   "nbconvert_exporter": "python",
   "pygments_lexer": "ipython3",
   "version": "3.12.3"
  }
 },
 "nbformat": 4,
 "nbformat_minor": 2
}
