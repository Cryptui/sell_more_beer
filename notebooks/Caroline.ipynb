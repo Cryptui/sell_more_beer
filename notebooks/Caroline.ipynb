{
 "cells": [
  {
   "cell_type": "markdown",
   "metadata": {},
   "source": [
    "# CONCLUSIONS PER TABLE"
   ]
  },
  {
   "cell_type": "markdown",
   "metadata": {},
   "source": [
    "### Conclusion Categories: \n",
    "- data ok\n",
    "- rows without data --> delet those"
   ]
  },
  {
   "cell_type": "markdown",
   "metadata": {},
   "source": [
    "### Conclusion Locations: \n",
    "- need to change from rows to columns\n",
    "- deleting the 0 id = empty values in colum Region and Country\n",
    "- Country and Region same data"
   ]
  },
  {
   "cell_type": "markdown",
   "metadata": {},
   "source": [
    "### Conclusion CHANNEL_VOLUM: \n",
    "\n",
    "- Missing value in Category: is the same as SubCategory --> us that\n",
    "- Column Industry, Edition(2022), Data_Type(Off-trade Volume), : al same value --> useless\n",
    "- Column Outlet: attention typo's! vending and VEnding, Non-grocery, maybe together?\n",
    "- Column Unit: 2 different units: million litres and 000 litres --> make it one unit! OPGELET for Volume if changes\n",
    "- Column Year_date: different types of notation of date (31-Dec-18, Thursday, 31 Dec 2020 , 31 12 2021), type = Object --> uniform them\n",
    "- Column Volume: Change it via Units! type = Object --> int\n"
   ]
  },
  {
   "cell_type": "markdown",
   "metadata": {},
   "source": [
    "### Conclusion Company share GBO unit: \n",
    "- rows without data --> delet those\n",
    "- separate data with ; --> replace with ,\n",
    "- no missing values\n",
    "- Column Industry (Alcoholic Drinks), Data_Type(Total Volume),Year_minus_2016(4): same data --> not relevant\n",
    "- Column Global_Brand_Owner: special character (FÃ©lix Lavaque SA )\n",
    "- Column Unit: 2 different units: million litres and 000 litres --> make it one unit! OPGELET for Volume if changes\n",
    "- Column Year_date: different types of notation of date (31-Dec-18, Thursday, 31 Dec 2020 , 31 12 2021), type = Object --> uniform them"
   ]
  },
  {
   "cell_type": "markdown",
   "metadata": {},
   "source": [
    "### Conclusion Market_Sizes: \n",
    "- rows without data --> delet those\n",
    "- no missing values\n",
    "- Column Industry(Alcoholic Drinks), Data_Type(Total Value RSP), Current_Constant(Historic Constant 2021 Prices, Forecast Constant 2021 Prices),Currency_Conversion(Historic Fixed 2021 Exchange Rates, Forecast Fixed 2021 Exchange Rates), Edition(2022): same data\n",
    "- Column Unit: USD million --> check with other units?\n",
    "- Column Year_date: good 31-Dec-24 \n",
    "- Column RSP: number in units int.\n",
    "- Column Volume: in litres\n",
    "- Column Year_minus_2016: dunno what year means\n",
    "- Column Year_minus_2022: dunno what year means and negative int! (-1 and -2 and 0)\n",
    "- !!! Column UNIT !!! --> is in USD"
   ]
  },
  {
   "cell_type": "markdown",
   "metadata": {},
   "source": [
    "### Conclusion Subcategories: \n",
    "- rows without data --> delet those"
   ]
  },
  {
   "cell_type": "markdown",
   "metadata": {},
   "source": [
    "# 1. Exploring Chanel_Volume.csv"
   ]
  },
  {
   "cell_type": "code",
   "execution_count": null,
   "metadata": {},
   "outputs": [],
   "source": [
    "import pandas as pd\n",
    "\n",
    "# Read the CSV file into a pandas DataFrame\n",
    "df = pd.read_csv('Channel_Volume.csv')\n"
   ]
  },
  {
   "cell_type": "markdown",
   "metadata": {},
   "source": [
    "#### info"
   ]
  },
  {
   "cell_type": "code",
   "execution_count": null,
   "metadata": {},
   "outputs": [],
   "source": [
    "df.info()"
   ]
  },
  {
   "cell_type": "markdown",
   "metadata": {},
   "source": [
    "#### difference between category and subcategory"
   ]
  },
  {
   "cell_type": "code",
   "execution_count": null,
   "metadata": {},
   "outputs": [],
   "source": [
    "# Select the 'Category' and 'Subcategory' columns\n",
    "category_column = df['Category']\n",
    "subcategory_column = df['Subcategory']\n",
    "\n",
    "# Calculate the difference\n",
    "differences = category_column != subcategory_column\n",
    "\n",
    "# Count the number of 'True' and 'False' values\n",
    "difference_counts = differences.value_counts()\n",
    "\n",
    "# Calculate the percentage of 'True' and 'False' values\n",
    "percentage_true = (difference_counts[True] / len(differences)) * 100\n",
    "percentage_false = (difference_counts[False] / len(differences)) * 100\n",
    "\n",
    "# Output the counts and percentages\n",
    "print(\"Total number of data points:\", len(differences))\n",
    "print(\"Number of True values:\", difference_counts[True])\n",
    "print(\"Number of False values:\", difference_counts[False])\n",
    "print(\"Percentage of True values:\", percentage_true)\n",
    "print(\"Percentage of False values:\", percentage_false)"
   ]
  },
  {
   "cell_type": "markdown",
   "metadata": {},
   "source": [
    "#### Types of values per column"
   ]
  },
  {
   "cell_type": "code",
   "execution_count": null,
   "metadata": {},
   "outputs": [],
   "source": [
    "\n",
    "# Select the column for which you want to see the different types of values\n",
    "column_name = 'Volume' \n",
    "\n",
    "# Get the counts of unique values in the selected column\n",
    "unique_values_counts = df[column_name].value_counts()\n",
    "\n",
    "# Output the unique values and their counts\n",
    "print(\"Different types of values in the column '{}':\".format(column_name))\n",
    "print(unique_values_counts)\n"
   ]
  },
  {
   "cell_type": "code",
   "execution_count": null,
   "metadata": {},
   "outputs": [],
   "source": [
    "# Get the data types of all columns\n",
    "column_data_types = df.dtypes\n",
    "\n",
    "# Output the data types of all columns\n",
    "print(\"Data types of columns:\")\n",
    "print(column_data_types)\n"
   ]
  },
  {
   "cell_type": "code",
   "execution_count": null,
   "metadata": {},
   "outputs": [],
   "source": [
    "# Filter rows with null values in the 'Category' column and select specific columns\n",
    "null_category_rows = df.loc[df['Category'].isnull(), ['Location', 'Industry', 'Edition', 'Category', 'Subcategory']]\n",
    "\n",
    "# Display the filtered rows\n",
    "print(\"Rows with null values in the 'Category' column:\")\n",
    "print(null_category_rows)\n"
   ]
  },
  {
   "cell_type": "markdown",
   "metadata": {},
   "source": [
    "# 2.Exploring Company_Share_GBO-unit"
   ]
  },
  {
   "cell_type": "code",
   "execution_count": null,
   "metadata": {},
   "outputs": [],
   "source": [
    "import pandas as pd\n",
    "\n",
    "# Read the CSV file into a pandas DataFrame\n",
    "df1 = pd.read_csv('Company_Share_GBO_unit.csv', sep=';')"
   ]
  },
  {
   "cell_type": "code",
   "execution_count": null,
   "metadata": {},
   "outputs": [],
   "source": [
    "df1.info()"
   ]
  },
  {
   "cell_type": "code",
   "execution_count": null,
   "metadata": {},
   "outputs": [],
   "source": [
    "# Select the column for which you want to see the different types of values\n",
    "column_name = 'Year_minus_2016' \n",
    "\n",
    "# Get the counts of unique values in the selected column\n",
    "unique_values_counts = df1[column_name].value_counts()\n",
    "\n",
    "# Output the unique values and their counts\n",
    "print(\"Different types of values in the column '{}':\".format(column_name))\n",
    "print(unique_values_counts)"
   ]
  },
  {
   "cell_type": "markdown",
   "metadata": {},
   "source": [
    "# 3.Exploring Market_Sizes"
   ]
  },
  {
   "cell_type": "code",
   "execution_count": null,
   "metadata": {},
   "outputs": [],
   "source": [
    "import pandas as pd\n",
    "\n",
    "# Read the CSV file into a pandas DataFrame\n",
    "df2 = pd.read_csv('Market_Sizes.csv')\n",
    "df2.info()"
   ]
  },
  {
   "cell_type": "markdown",
   "metadata": {},
   "source": [
    "compair Current_Constant and Currency_Conversion"
   ]
  },
  {
   "cell_type": "code",
   "execution_count": null,
   "metadata": {},
   "outputs": [],
   "source": [
    "import pandas as pd\n",
    "\n",
    "# Read the CSV file into a pandas DataFrame\n",
    "df = pd.read_csv('Market_Size.csv')\n",
    "\n",
    "# Select the 'Current_Constant' and 'Currency_Conversion' columns\n",
    "current_constant_column = df['Current_Constant']\n",
    "currency_conversion_column = df['Currency_Conversion']\n",
    "\n",
    "# Calculate the difference\n",
    "differences = current_constant_column != currency_conversion_column\n",
    "\n",
    "# Count the number of 'True' and 'False' values\n",
    "difference_counts = differences.value_counts()\n",
    "\n",
    "# Calculate the percentage of 'True' and 'False' values\n",
    "percentage_true = (difference_counts.get(True, 0) / len(differences)) * 100\n",
    "percentage_false = (difference_counts.get(False, 0) / len(differences)) * 100\n",
    "\n",
    "# Output the counts and percentages\n",
    "print(\"Total number of data points:\", len(differences))\n",
    "print(\"Number of True values:\", difference_counts.get(True, 0))\n",
    "print(\"Number of False values:\", difference_counts.get(False, 0))\n",
    "print(\"Percentage of True values:\", percentage_true)\n",
    "print(\"Percentage of False values:\", percentage_false)\n"
   ]
  },
  {
   "cell_type": "code",
   "execution_count": null,
   "metadata": {},
   "outputs": [],
   "source": [
    "# Select the column for which you want to see the different types of values\n",
    "column_name2 = 'Currency_Conversion' \n",
    "\n",
    "# Get the counts of unique values in the selected column\n",
    "unique_values_counts = df2[column_name2].value_counts()\n",
    "\n",
    "# Output the unique values and their counts\n",
    "print(\"Different types of values in the column '{}':\".format(column_name2))\n",
    "print(unique_values_counts)"
   ]
  },
  {
   "cell_type": "code",
   "execution_count": null,
   "metadata": {},
   "outputs": [],
   "source": [
    "df2.info()"
   ]
  },
  {
   "cell_type": "markdown",
   "metadata": {},
   "source": [
    "# 4.CLEARED channell volume"
   ]
  },
  {
   "cell_type": "markdown",
   "metadata": {},
   "source": [
    "checking type for volume and Formatted_Date"
   ]
  },
  {
   "cell_type": "code",
   "execution_count": null,
   "metadata": {},
   "outputs": [],
   "source": [
    "import pandas as pd\n",
    "\n",
    "# Read the CSV file into a pandas DataFrame\n",
    "df4 = pd.read_csv('Channel_Volume_removals.csv')\n",
    "\n",
    "type_volume = df4['Volume'].dtype\n",
    "type_Year_date = df4['Formatted_Date'].dtype\n",
    "\n",
    "print('tupe of volume', type_volume)\n",
    "print('type for Formatted_Date', type_Year_date)"
   ]
  },
  {
   "cell_type": "markdown",
   "metadata": {},
   "source": []
  },
  {
   "cell_type": "markdown",
   "metadata": {},
   "source": [
    "# 5. Cleaning data"
   ]
  },
  {
   "cell_type": "markdown",
   "metadata": {},
   "source": [
    "## Channel_Volume"
   ]
  },
  {
   "cell_type": "code",
   "execution_count": null,
   "metadata": {},
   "outputs": [],
   "source": [
    "import pandas as pd\n",
    "\n",
    "# Read the CSV file into a pandas DataFrame\n",
    "df = pd.read_csv('Channel_Volume.csv')\n",
    "\n",
    "# Drop rows with any null values\n",
    "df_cleaned = df.dropna()\n",
    "\n",
    "# Replace commas with dots and convert to float\n",
    "df_cleaned['Volume'] = df_cleaned['Volume'].str.replace(',', '.').astype(float)\n",
    "\n",
    "# Round the values to 2 decimal places\n",
    "df_cleaned['Volume'] = df_cleaned['Volume'].round(2)\n",
    "\n",
    "#Convert the 'Year_date' column to datetime objects\n",
    "df_cleaned['Year_date'] = pd.to_datetime(df_cleaned['Year_date'])\n",
    "\n",
    "# Create a new column with formatted date strings\n",
    "df_cleaned['Formatted_Date'] = df_cleaned['Year_date'].dt.strftime('%d/%m/%Y')\n",
    "\n",
    "# Save the DataFrame with the new column to another CSV file\n",
    "df_cleaned.to_csv('Channel_Volume_removals.csv', index=False)\n",
    "\n",
    "\n",
    "\n",
    "type_volume = df_cleaned['Volume'].dtype\n",
    "type_Year_date = df_cleaned['Year_date'].dtype\n",
    "\n",
    "print('tupe of volume', type_volume)\n",
    "print('type for Year_date', type_Year_date)\n",
    "\n",
    "\n"
   ]
  },
  {
   "cell_type": "markdown",
   "metadata": {},
   "source": [
    "## Market_Sizes"
   ]
  },
  {
   "cell_type": "code",
   "execution_count": null,
   "metadata": {},
   "outputs": [],
   "source": [
    "import pandas as pd\n",
    "\n",
    "# Read the CSV file into a pandas DataFrame\n",
    "df = pd.read_csv('Market_Sizes.csv')\n",
    "\n",
    "# Drop rows with any null values\n",
    "df_cleaned = df.dropna()\n",
    "\n",
    "#Convert the 'Year_date' column to datetime objects\n",
    "df_cleaned['Year_date'] = pd.to_datetime(df_cleaned['Year_date'])\n",
    "\n",
    "# Create a new column with formatted date strings\n",
    "df_cleaned['Formatted_Date'] = df_cleaned['Year_date'].dt.strftime('%d/%m/%Y')\n",
    "\n",
    "# Save the DataFrame with the new column to another CSV file\n",
    "df_cleaned.to_csv('Market_Sizes_removals.csv', index=False)"
   ]
  }
 ],
 "metadata": {
  "kernelspec": {
   "display_name": "Python 3",
   "language": "python",
   "name": "python3"
  },
  "language_info": {
   "codemirror_mode": {
    "name": "ipython",
    "version": 3
   },
   "file_extension": ".py",
   "mimetype": "text/x-python",
   "name": "python",
   "nbconvert_exporter": "python",
   "pygments_lexer": "ipython3",
   "version": "3.11.7"
  }
 },
 "nbformat": 4,
 "nbformat_minor": 2
}
